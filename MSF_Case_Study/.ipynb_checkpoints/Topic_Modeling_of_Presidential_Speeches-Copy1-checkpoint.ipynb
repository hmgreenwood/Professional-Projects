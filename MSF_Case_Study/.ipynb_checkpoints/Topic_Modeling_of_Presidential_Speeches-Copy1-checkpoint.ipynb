{
 "cells": [
  {
   "cell_type": "code",
   "execution_count": 112,
   "metadata": {},
   "outputs": [],
   "source": [
    "import pandas as pd\n",
    "import numpy as np\n",
    "import scipy as sp\n",
    "import gensim\n",
    "from sklearn.model_selection import train_test_split\n",
    "from sklearn.linear_model import LogisticRegression\n",
    "from sklearn import metrics\n",
    "from textblob import TextBlob, Word\n",
    "from nltk.stem.snowball import SnowballStemmer\n",
    "from nltk.stem import WordNetLemmatizer\n",
    "from nltk.stem.porter import *\n",
    "%matplotlib inline"
   ]
  },
  {
   "cell_type": "code",
   "execution_count": 3,
   "metadata": {},
   "outputs": [],
   "source": [
    "from gensim.utils import simple_preprocess\n",
    "from gensim.parsing.preprocessing import STOPWORDS\n",
    "from gensim import corpora, models, matutils\n"
   ]
  },
  {
   "cell_type": "markdown",
   "metadata": {},
   "source": [
    "Importing all Presidential speeches and appending them to a dataframe"
   ]
  },
  {
   "cell_type": "code",
   "execution_count": 132,
   "metadata": {},
   "outputs": [],
   "source": [
    "from pathlib import Path\n",
    "import os\n",
    "import glob\n",
    "from collections import defaultdict\n",
    "my_dir_path=r'C:\\Users\\hartg\\Desktop\\Professional_Projects\\Professional-Projects\\MSF_Case_Study\\Corpus of Presential Speeches\\combined'\n",
    "\n",
    "filelist=[]\n",
    "filesList=[]\n",
    "os.chdir(my_dir_path)\n",
    "\n",
    "for files in glob.glob('*txt'):\n",
    "    fileName,fileExtension = os.path.splitext(files)\n",
    "    filelist.append(fileName)\n",
    "    filesList.append(files)"
   ]
  },
  {
   "cell_type": "code",
   "execution_count": 135,
   "metadata": {},
   "outputs": [],
   "source": [
    "from os import path\n",
    "root=r'C:\\Users\\hartg\\Desktop\\Professional_Projects\\Professional-Projects\\MSF_Case_Study\\Corpus of Presential Speeches\\combined'\n",
    "files=os.listdir(root)\n",
    "\n",
    "#load speeches into a list\n",
    "\n",
    "docs=list()\n",
    "for file in files:\n",
    "    with open(path.join(root,file),'r',encoding='utf-8') as fd:\n",
    "        txt=fd.read()\n",
    "        docs.append(txt)"
   ]
  },
  {
   "cell_type": "markdown",
   "metadata": {},
   "source": []
  },
  {
   "cell_type": "code",
   "execution_count": 138,
   "metadata": {},
   "outputs": [],
   "source": [
    "import re\n",
    "def clean(doc):\n",
    "    doc = re.sub(r'[^\\w\\s]*','',doc)\n",
    "    doc = re.sub(r'[\\s]+', ' ', doc)\n",
    "    doc = doc.lower().strip()\n",
    "    return doc"
   ]
  },
  {
   "cell_type": "markdown",
   "metadata": {},
   "source": [
    "clean the documents associated with the presidential speeches"
   ]
  },
  {
   "cell_type": "code",
   "execution_count": 140,
   "metadata": {},
   "outputs": [],
   "source": [
    "clean_docs=list()\n",
    "for doc in docs:\n",
    "    doc = clean(doc)\n",
    "    clean_docs.append(doc)"
   ]
  },
  {
   "cell_type": "code",
   "execution_count": 93,
   "metadata": {},
   "outputs": [],
   "source": [
    "df=pd.DataFrame()\n",
    "import csv\n",
    "filenames=glob.glob(r'C:\\Users\\hartg\\Desktop\\Professional_Projects\\Professional-Projects\\MSF_Case_Study\\Corpus of Presential Speeches\\combined\\*.txt')"
   ]
  },
  {
   "cell_type": "code",
   "execution_count": 97,
   "metadata": {},
   "outputs": [
    {
     "data": {
      "text/plain": [
       "'C:\\\\Users\\\\hartg\\\\Desktop\\\\Professional_Projects\\\\Professional-Projects\\\\MSF_Case_Study\\\\Corpus of Presential Speeches\\\\combined\\\\adams_speeches_000.txt'"
      ]
     },
     "execution_count": 97,
     "metadata": {},
     "output_type": "execute_result"
    }
   ],
   "source": [
    "filenames[0]"
   ]
  },
  {
   "cell_type": "code",
   "execution_count": 98,
   "metadata": {},
   "outputs": [
    {
     "name": "stderr",
     "output_type": "stream",
     "text": [
      "C:\\Users\\hartg\\anaconda3\\lib\\site-packages\\ipykernel_launcher.py:1: DeprecationWarning: 'U' mode is deprecated\n",
      "  \"\"\"Entry point for launching an IPython kernel.\n"
     ]
    }
   ],
   "source": [
    "first_file=open(filenames[0],'rU')"
   ]
  },
  {
   "cell_type": "code",
   "execution_count": 107,
   "metadata": {},
   "outputs": [
    {
     "data": {
      "text/plain": [
       "<_io.TextIOWrapper name='C:\\\\Users\\\\hartg\\\\Desktop\\\\Professional_Projects\\\\Professional-Projects\\\\MSF_Case_Study\\\\Corpus of Presential Speeches\\\\combined\\\\adams_speeches_000.txt' mode='rU' encoding='cp1252'>"
      ]
     },
     "execution_count": 107,
     "metadata": {},
     "output_type": "execute_result"
    }
   ],
   "source": [
    "first_file"
   ]
  },
  {
   "cell_type": "code",
   "execution_count": 114,
   "metadata": {},
   "outputs": [],
   "source": [
    "from nltk.corpus import CategorizedPlaintextCorpusReader"
   ]
  },
  {
   "cell_type": "code",
   "execution_count": 115,
   "metadata": {},
   "outputs": [
    {
     "name": "stdout",
     "output_type": "stream",
     "text": [
      "['adams_speeches_000', 'adams_speeches_001', 'adams_speeches_002', 'adams_speeches_003', 'adams_speeches_004', 'adams_speeches_005', 'adams_speeches_006', 'adams_speeches_007', 'adams_speeches_008', 'arthur_speeches_000', 'arthur_speeches_001', 'arthur_speeches_002', 'arthur_speeches_003', 'arthur_speeches_004', 'arthur_speeches_005', 'arthur_speeches_006', 'arthur_speeches_007', 'arthur_speeches_008', 'arthur_speeches_009', 'arthur_speeches_010', 'bharrison_speeches_000', 'bharrison_speeches_001', 'bharrison_speeches_002', 'bharrison_speeches_003', 'bharrison_speeches_004', 'bharrison_speeches_005', 'bharrison_speeches_006', 'bharrison_speeches_007', 'bharrison_speeches_008', 'bharrison_speeches_009', 'bharrison_speeches_010', 'bharrison_speeches_011', 'bharrison_speeches_012', 'bharrison_speeches_013', 'bharrison_speeches_014', 'bharrison_speeches_015', 'buchanan_speeches_000', 'buchanan_speeches_001', 'buchanan_speeches_002', 'buchanan_speeches_003', 'buchanan_speeches_004', 'buchanan_speeches_005', 'buchanan_speeches_006', 'buchanan_speeches_007', 'buchanan_speeches_008', 'buchanan_speeches_009', 'buchanan_speeches_010', 'buchanan_speeches_011', 'buchanan_speeches_012', 'buchanan_speeches_013', 'bush_speeches_000', 'bush_speeches_001', 'bush_speeches_002', 'bush_speeches_003', 'bush_speeches_004', 'bush_speeches_005', 'bush_speeches_006', 'bush_speeches_007', 'bush_speeches_008', 'bush_speeches_009', 'bush_speeches_010', 'bush_speeches_011', 'bush_speeches_012', 'bush_speeches_013', 'bush_speeches_014', 'bush_speeches_015', 'bush_speeches_016', 'bush_speeches_017', 'bush_speeches_018', 'bush_speeches_019', 'bush_speeches_020', 'bush_speeches_021', 'bush_speeches_022', 'carter_speeches_000', 'carter_speeches_001', 'carter_speeches_002', 'carter_speeches_003', 'carter_speeches_004', 'carter_speeches_005', 'carter_speeches_006', 'carter_speeches_007', 'carter_speeches_008', 'carter_speeches_009', 'carter_speeches_010', 'carter_speeches_011', 'carter_speeches_012', 'carter_speeches_013', 'carter_speeches_014', 'carter_speeches_015', 'carter_speeches_016', 'carter_speeches_017', 'carter_speeches_018', 'carter_speeches_019', 'carter_speeches_020', 'carter_speeches_021', 'cleveland_speeches_000', 'cleveland_speeches_001', 'cleveland_speeches_002', 'cleveland_speeches_003', 'cleveland_speeches_004', 'cleveland_speeches_005', 'cleveland_speeches_006', 'cleveland_speeches_007', 'cleveland_speeches_008', 'cleveland_speeches_009', 'cleveland_speeches_010', 'cleveland_speeches_011', 'cleveland_speeches_012', 'cleveland_speeches_013', 'cleveland_speeches_014', 'cleveland_speeches_015', 'cleveland_speeches_016', 'cleveland_speeches_017', 'cleveland_speeches_018', 'cleveland_speeches_019', 'cleveland_speeches_020', 'cleveland_speeches_021', 'cleveland_speeches_022', 'cleveland_speeches_023', 'cleveland_speeches_024', 'cleveland_speeches_025', 'cleveland_speeches_026', 'cleveland_speeches_027', 'cleveland_speeches_028', 'cleveland_speeches_029', 'cleveland_speeches_030', 'clinton_speeches_000', 'clinton_speeches_001', 'clinton_speeches_002', 'clinton_speeches_003', 'clinton_speeches_004', 'clinton_speeches_005', 'clinton_speeches_006', 'clinton_speeches_007', 'clinton_speeches_008', 'clinton_speeches_009', 'clinton_speeches_010', 'clinton_speeches_011', 'clinton_speeches_012', 'clinton_speeches_013', 'clinton_speeches_014', 'clinton_speeches_015', 'clinton_speeches_016', 'clinton_speeches_017', 'clinton_speeches_018', 'clinton_speeches_019', 'clinton_speeches_020', 'clinton_speeches_021', 'clinton_speeches_022', 'clinton_speeches_023', 'clinton_speeches_024', 'clinton_speeches_025', 'clinton_speeches_026', 'clinton_speeches_027', 'clinton_speeches_028', 'clinton_speeches_029', 'clinton_speeches_030', 'clinton_speeches_031', 'clinton_speeches_032', 'clinton_speeches_033', 'clinton_speeches_034', 'clinton_speeches_035', 'clinton_speeches_036', 'clinton_speeches_037', 'clinton_speeches_038', 'coolidge_speeches_000', 'coolidge_speeches_001', 'coolidge_speeches_002', 'coolidge_speeches_003', 'coolidge_speeches_004', 'coolidge_speeches_005', 'coolidge_speeches_006', 'coolidge_speeches_007', 'coolidge_speeches_008', 'coolidge_speeches_009', 'coolidge_speeches_010', 'coolidge_speeches_011', 'eisenhower_speeches_000', 'eisenhower_speeches_001', 'eisenhower_speeches_002', 'eisenhower_speeches_003', 'eisenhower_speeches_004', 'eisenhower_speeches_005', 'fdroosevelt_speeches_000', 'fdroosevelt_speeches_001', 'fdroosevelt_speeches_002', 'fdroosevelt_speeches_003', 'fdroosevelt_speeches_004', 'fdroosevelt_speeches_005', 'fdroosevelt_speeches_006', 'fdroosevelt_speeches_007', 'fdroosevelt_speeches_008', 'fdroosevelt_speeches_009', 'fdroosevelt_speeches_010', 'fdroosevelt_speeches_011', 'fdroosevelt_speeches_012', 'fdroosevelt_speeches_013', 'fdroosevelt_speeches_014', 'fdroosevelt_speeches_015', 'fdroosevelt_speeches_016', 'fdroosevelt_speeches_017', 'fdroosevelt_speeches_018', 'fdroosevelt_speeches_019', 'fdroosevelt_speeches_020', 'fdroosevelt_speeches_021', 'fdroosevelt_speeches_022', 'fdroosevelt_speeches_023', 'fdroosevelt_speeches_024', 'fdroosevelt_speeches_025', 'fdroosevelt_speeches_026', 'fdroosevelt_speeches_027', 'fdroosevelt_speeches_028', 'fdroosevelt_speeches_029', 'fdroosevelt_speeches_030', 'fdroosevelt_speeches_031', 'fdroosevelt_speeches_032', 'fdroosevelt_speeches_033', 'fdroosevelt_speeches_034', 'fdroosevelt_speeches_035', 'fdroosevelt_speeches_036', 'fdroosevelt_speeches_037', 'fdroosevelt_speeches_038', 'fdroosevelt_speeches_039', 'fdroosevelt_speeches_040', 'fdroosevelt_speeches_041', 'fdroosevelt_speeches_042', 'fdroosevelt_speeches_043', 'fdroosevelt_speeches_044', 'fdroosevelt_speeches_045', 'fdroosevelt_speeches_046', 'fdroosevelt_speeches_047', 'fdroosevelt_speeches_048', 'fillmore_speeches_000', 'fillmore_speeches_001', 'fillmore_speeches_002', 'fillmore_speeches_003', 'fillmore_speeches_004', 'fillmore_speeches_005', 'fillmore_speeches_006', 'ford_speeches_000', 'ford_speeches_001', 'ford_speeches_002', 'ford_speeches_003', 'ford_speeches_004', 'ford_speeches_005', 'ford_speeches_006', 'ford_speeches_007', 'ford_speeches_008', 'ford_speeches_009', 'ford_speeches_010', 'ford_speeches_011', 'ford_speeches_012', 'ford_speeches_013', 'garfield_speeches_000', 'grant_speeches_000', 'grant_speeches_001', 'grant_speeches_002', 'grant_speeches_003', 'grant_speeches_004', 'grant_speeches_005', 'grant_speeches_006', 'grant_speeches_007', 'grant_speeches_008', 'grant_speeches_009', 'grant_speeches_010', 'grant_speeches_011', 'grant_speeches_012', 'grant_speeches_013', 'grant_speeches_014', 'grant_speeches_015', 'grant_speeches_016', 'grant_speeches_017', 'grant_speeches_018', 'grant_speeches_019', 'grant_speeches_020', 'grant_speeches_021', 'grant_speeches_022', 'grant_speeches_023', 'grant_speeches_024', 'grant_speeches_025', 'grant_speeches_026', 'grant_speeches_027', 'grant_speeches_028', 'grant_speeches_029', 'grant_speeches_030', 'grant_speeches_031', 'gwbush_speeches_000', 'gwbush_speeches_001', 'gwbush_speeches_002', 'gwbush_speeches_003', 'gwbush_speeches_004', 'gwbush_speeches_005', 'gwbush_speeches_006', 'gwbush_speeches_007', 'gwbush_speeches_008', 'gwbush_speeches_009', 'gwbush_speeches_010', 'gwbush_speeches_011', 'gwbush_speeches_012', 'gwbush_speeches_013', 'gwbush_speeches_014', 'gwbush_speeches_015', 'gwbush_speeches_016', 'gwbush_speeches_017', 'gwbush_speeches_018', 'gwbush_speeches_019', 'gwbush_speeches_020', 'gwbush_speeches_021', 'gwbush_speeches_022', 'gwbush_speeches_023', 'gwbush_speeches_024', 'gwbush_speeches_025', 'gwbush_speeches_026', 'gwbush_speeches_027', 'gwbush_speeches_028', 'gwbush_speeches_029', 'gwbush_speeches_030', 'gwbush_speeches_031', 'gwbush_speeches_032', 'gwbush_speeches_033', 'gwbush_speeches_034', 'gwbush_speeches_035', 'gwbush_speeches_036', 'gwbush_speeches_037', 'gwbush_speeches_038', 'harding_speeches_000', 'harding_speeches_001', 'harding_speeches_002', 'harding_speeches_003', 'harding_speeches_004', 'harding_speeches_005', 'harding_speeches_006', 'harding_speeches_007', 'harding_speeches_008', 'harding_speeches_009', 'harding_speeches_010', 'harding_speeches_011', 'harding_speeches_012', 'harding_speeches_013', 'harding_speeches_014', 'harding_speeches_015', 'harding_speeches_016', 'harding_speeches_017', 'harrison_speeches_000', 'hayes_speeches_000', 'hayes_speeches_001', 'hayes_speeches_002', 'hayes_speeches_003', 'hayes_speeches_004', 'hayes_speeches_005', 'hayes_speeches_006', 'hayes_speeches_007', 'hayes_speeches_008', 'hayes_speeches_009', 'hayes_speeches_010', 'hayes_speeches_011', 'hayes_speeches_012', 'hayes_speeches_013', 'hayes_speeches_014', 'hayes_speeches_015', 'hoover_speeches_000', 'hoover_speeches_001', 'hoover_speeches_002', 'hoover_speeches_003', 'hoover_speeches_004', 'hoover_speeches_005', 'hoover_speeches_006', 'hoover_speeches_007', 'hoover_speeches_008', 'hoover_speeches_009', 'hoover_speeches_010', 'hoover_speeches_011', 'hoover_speeches_012', 'hoover_speeches_013', 'hoover_speeches_014', 'hoover_speeches_015', 'hoover_speeches_016', 'hoover_speeches_017', 'hoover_speeches_018', 'hoover_speeches_019', 'hoover_speeches_020', 'hoover_speeches_021', 'hoover_speeches_022', 'hoover_speeches_023', 'hoover_speeches_024', 'hoover_speeches_025', 'hoover_speeches_026', 'hoover_speeches_027', 'hoover_speeches_028', 'jackson_speeches_000', 'jackson_speeches_001', 'jackson_speeches_002', 'jackson_speeches_003', 'jackson_speeches_004', 'jackson_speeches_005', 'jackson_speeches_006', 'jackson_speeches_007', 'jackson_speeches_008', 'jackson_speeches_009', 'jackson_speeches_010', 'jackson_speeches_011', 'jackson_speeches_012', 'jackson_speeches_013', 'jackson_speeches_014', 'jackson_speeches_015', 'jackson_speeches_016', 'jackson_speeches_017', 'jackson_speeches_018', 'jackson_speeches_019', 'jackson_speeches_020', 'jackson_speeches_021', 'jackson_speeches_022', 'jackson_speeches_023', 'jackson_speeches_024', 'jackson_speeches_025', 'jefferson_speeches_000', 'jefferson_speeches_001', 'jefferson_speeches_002', 'jefferson_speeches_003', 'jefferson_speeches_004', 'jefferson_speeches_005', 'jefferson_speeches_006', 'jefferson_speeches_007', 'jefferson_speeches_008', 'jefferson_speeches_009', 'jefferson_speeches_010', 'jefferson_speeches_011', 'jefferson_speeches_012', 'jefferson_speeches_013', 'jefferson_speeches_014', 'jefferson_speeches_015', 'jefferson_speeches_016', 'jefferson_speeches_017', 'jefferson_speeches_018', 'jefferson_speeches_019', 'jefferson_speeches_020', 'jefferson_speeches_021', 'jefferson_speeches_022', 'jefferson_speeches_023', 'johnson_speeches_000', 'johnson_speeches_001', 'johnson_speeches_002', 'johnson_speeches_003', 'johnson_speeches_004', 'johnson_speeches_005', 'johnson_speeches_006', 'johnson_speeches_007', 'johnson_speeches_008', 'johnson_speeches_009', 'johnson_speeches_010', 'johnson_speeches_011', 'johnson_speeches_012', 'johnson_speeches_013', 'johnson_speeches_014', 'johnson_speeches_015', 'johnson_speeches_016', 'johnson_speeches_017', 'johnson_speeches_018', 'johnson_speeches_019', 'johnson_speeches_020', 'johnson_speeches_021', 'johnson_speeches_022', 'johnson_speeches_023', 'johnson_speeches_024', 'johnson_speeches_025', 'johnson_speeches_026', 'johnson_speeches_027', 'johnson_speeches_028', 'johnson_speeches_029', 'johnson_speeches_030', 'jqadams_speeches_000', 'jqadams_speeches_001', 'jqadams_speeches_002', 'jqadams_speeches_003', 'jqadams_speeches_004', 'jqadams_speeches_005', 'jqadams_speeches_006', 'jqadams_speeches_007', 'kennedy_speeches_000', 'kennedy_speeches_001', 'kennedy_speeches_002', 'kennedy_speeches_003', 'kennedy_speeches_004', 'kennedy_speeches_005', 'kennedy_speeches_006', 'kennedy_speeches_007', 'kennedy_speeches_008', 'kennedy_speeches_009', 'kennedy_speeches_010', 'kennedy_speeches_011', 'kennedy_speeches_012', 'kennedy_speeches_013', 'kennedy_speeches_014', 'kennedy_speeches_015', 'kennedy_speeches_016', 'kennedy_speeches_017', 'kennedy_speeches_018', 'kennedy_speeches_019', 'kennedy_speeches_020', 'kennedy_speeches_021', 'kennedy_speeches_022', 'kennedy_speeches_023', 'kennedy_speeches_024', 'kennedy_speeches_025', 'kennedy_speeches_026', 'kennedy_speeches_027', 'kennedy_speeches_028', 'kennedy_speeches_029', 'kennedy_speeches_030', 'kennedy_speeches_031', 'kennedy_speeches_032', 'kennedy_speeches_033', 'kennedy_speeches_034', 'kennedy_speeches_035', 'kennedy_speeches_036', 'kennedy_speeches_037', 'kennedy_speeches_038', 'kennedy_speeches_039', 'kennedy_speeches_040', 'kennedy_speeches_041', 'kennedy_speeches_042', 'kennedy_speeches_043', 'kennedy_speeches_044', 'lbjohnson_speeches_000', 'lbjohnson_speeches_001', 'lbjohnson_speeches_002', 'lbjohnson_speeches_003', 'lbjohnson_speeches_004', 'lbjohnson_speeches_005', 'lbjohnson_speeches_006', 'lbjohnson_speeches_007', 'lbjohnson_speeches_008', 'lbjohnson_speeches_009', 'lbjohnson_speeches_010', 'lbjohnson_speeches_011', 'lbjohnson_speeches_012', 'lbjohnson_speeches_013', 'lbjohnson_speeches_014', 'lbjohnson_speeches_015', 'lbjohnson_speeches_016', 'lbjohnson_speeches_017', 'lbjohnson_speeches_018', 'lbjohnson_speeches_019', 'lbjohnson_speeches_020', 'lbjohnson_speeches_021', 'lbjohnson_speeches_022', 'lbjohnson_speeches_023', 'lbjohnson_speeches_024', 'lbjohnson_speeches_025', 'lbjohnson_speeches_026', 'lbjohnson_speeches_027', 'lbjohnson_speeches_028', 'lbjohnson_speeches_029', 'lbjohnson_speeches_030', 'lbjohnson_speeches_031', 'lbjohnson_speeches_032', 'lbjohnson_speeches_033', 'lbjohnson_speeches_034', 'lbjohnson_speeches_035', 'lbjohnson_speeches_036', 'lbjohnson_speeches_037', 'lbjohnson_speeches_038', 'lbjohnson_speeches_039', 'lbjohnson_speeches_040', 'lbjohnson_speeches_041', 'lbjohnson_speeches_042', 'lbjohnson_speeches_043', 'lbjohnson_speeches_044', 'lbjohnson_speeches_045', 'lbjohnson_speeches_046', 'lbjohnson_speeches_047', 'lbjohnson_speeches_048', 'lbjohnson_speeches_049', 'lbjohnson_speeches_050', 'lbjohnson_speeches_051', 'lbjohnson_speeches_052', 'lbjohnson_speeches_053', 'lbjohnson_speeches_054', 'lbjohnson_speeches_055', 'lbjohnson_speeches_056', 'lbjohnson_speeches_057', 'lbjohnson_speeches_058', 'lbjohnson_speeches_059', 'lbjohnson_speeches_060', 'lbjohnson_speeches_061', 'lbjohnson_speeches_062', 'lbjohnson_speeches_063', 'lbjohnson_speeches_064', 'lbjohnson_speeches_065', 'lbjohnson_speeches_066', 'lbjohnson_speeches_067', 'lbjohnson_speeches_068', 'lbjohnson_speeches_069', 'lbjohnson_speeches_070', 'lincoln_speeches_000', 'lincoln_speeches_001', 'lincoln_speeches_002', 'lincoln_speeches_003', 'lincoln_speeches_004', 'lincoln_speeches_005', 'lincoln_speeches_006', 'lincoln_speeches_007', 'lincoln_speeches_008', 'lincoln_speeches_009', 'lincoln_speeches_010', 'lincoln_speeches_011', 'lincoln_speeches_012', 'lincoln_speeches_013', 'lincoln_speeches_014', 'madison_speeches_000', 'madison_speeches_001', 'madison_speeches_002', 'madison_speeches_003', 'madison_speeches_004', 'madison_speeches_005', 'madison_speeches_006', 'madison_speeches_007', 'madison_speeches_008', 'madison_speeches_009', 'madison_speeches_010', 'madison_speeches_011', 'madison_speeches_012', 'madison_speeches_013', 'madison_speeches_014', 'madison_speeches_015', 'madison_speeches_016', 'madison_speeches_017', 'madison_speeches_018', 'madison_speeches_019', 'madison_speeches_020', 'madison_speeches_021', 'mckinley_speeches_000', 'mckinley_speeches_001', 'mckinley_speeches_002', 'mckinley_speeches_003', 'mckinley_speeches_004', 'mckinley_speeches_005', 'mckinley_speeches_006', 'mckinley_speeches_007', 'mckinley_speeches_008', 'mckinley_speeches_009', 'mckinley_speeches_010', 'mckinley_speeches_011', 'mckinley_speeches_012', 'mckinley_speeches_013', 'monroe_speeches_000', 'monroe_speeches_001', 'monroe_speeches_002', 'monroe_speeches_003', 'monroe_speeches_004', 'monroe_speeches_005', 'monroe_speeches_006', 'monroe_speeches_007', 'monroe_speeches_008', 'monroe_speeches_009', 'nixon_speeches_000', 'nixon_speeches_001', 'nixon_speeches_002', 'nixon_speeches_003', 'nixon_speeches_004', 'nixon_speeches_005', 'nixon_speeches_006', 'nixon_speeches_007', 'nixon_speeches_008', 'nixon_speeches_009', 'nixon_speeches_010', 'nixon_speeches_011', 'nixon_speeches_012', 'nixon_speeches_013', 'nixon_speeches_014', 'nixon_speeches_015', 'nixon_speeches_016', 'nixon_speeches_017', 'nixon_speeches_018', 'nixon_speeches_019', 'nixon_speeches_020', 'nixon_speeches_021', 'nixon_speeches_022', 'obama_speeches_000', 'obama_speeches_001', 'obama_speeches_002', 'obama_speeches_003', 'obama_speeches_004', 'obama_speeches_005', 'obama_speeches_006', 'obama_speeches_007', 'obama_speeches_008', 'obama_speeches_009', 'obama_speeches_010', 'obama_speeches_011', 'obama_speeches_012', 'obama_speeches_013', 'obama_speeches_014', 'obama_speeches_015', 'obama_speeches_016', 'obama_speeches_017', 'obama_speeches_018', 'obama_speeches_019', 'obama_speeches_020', 'obama_speeches_021', 'obama_speeches_022', 'obama_speeches_023', 'obama_speeches_026', 'obama_speeches_027', 'obama_speeches_028', 'obama_speeches_029', 'obama_speeches_030', 'obama_speeches_031', 'obama_speeches_032', 'obama_speeches_033', 'obama_speeches_034', 'obama_speeches_035', 'obama_speeches_036', 'obama_speeches_037', 'obama_speeches_038', 'obama_speeches_039', 'obama_speeches_040', 'obama_speeches_041', 'obama_speeches_042', 'obama_speeches_043', 'obama_speeches_044', 'obama_speeches_045', 'obama_speeches_046', 'obama_speeches_047', 'obama_speeches_048', 'obama_speeches_049', 'pierce_speeches_000', 'pierce_speeches_001', 'pierce_speeches_002', 'pierce_speeches_003', 'pierce_speeches_004', 'pierce_speeches_005', 'pierce_speeches_006', 'pierce_speeches_007', 'pierce_speeches_008', 'pierce_speeches_009', 'pierce_speeches_010', 'pierce_speeches_011', 'pierce_speeches_012', 'pierce_speeches_013', 'pierce_speeches_014', 'polk_speeches_000', 'polk_speeches_001', 'polk_speeches_002', 'polk_speeches_003', 'polk_speeches_004', 'polk_speeches_005', 'polk_speeches_006', 'polk_speeches_007', 'polk_speeches_008', 'polk_speeches_009', 'polk_speeches_010', 'polk_speeches_011', 'polk_speeches_012', 'polk_speeches_013', 'polk_speeches_014', 'polk_speeches_015', 'polk_speeches_016', 'polk_speeches_017', 'polk_speeches_018', 'polk_speeches_019', 'polk_speeches_020', 'polk_speeches_021', 'polk_speeches_022', 'polk_speeches_023', 'polk_speeches_024', 'reagan_speeches_000', 'reagan_speeches_001', 'reagan_speeches_002', 'reagan_speeches_003', 'reagan_speeches_004', 'reagan_speeches_005', 'reagan_speeches_006', 'reagan_speeches_007', 'reagan_speeches_008', 'reagan_speeches_009', 'reagan_speeches_010', 'reagan_speeches_011', 'reagan_speeches_012', 'reagan_speeches_013', 'reagan_speeches_014', 'reagan_speeches_015', 'reagan_speeches_016', 'reagan_speeches_017', 'reagan_speeches_018', 'reagan_speeches_019', 'reagan_speeches_020', 'reagan_speeches_021', 'reagan_speeches_022', 'reagan_speeches_023', 'reagan_speeches_024', 'reagan_speeches_025', 'reagan_speeches_026', 'reagan_speeches_027', 'reagan_speeches_028', 'reagan_speeches_029', 'reagan_speeches_030', 'reagan_speeches_031', 'reagan_speeches_032', 'reagan_speeches_033', 'reagan_speeches_034', 'reagan_speeches_035', 'reagan_speeches_036', 'reagan_speeches_037', 'reagan_speeches_038', 'reagan_speeches_039', 'reagan_speeches_040', 'reagan_speeches_041', 'reagan_speeches_042', 'reagan_speeches_043', 'reagan_speeches_044', 'reagan_speeches_045', 'reagan_speeches_046', 'reagan_speeches_047', 'reagan_speeches_048', 'reagan_speeches_049', 'reagan_speeches_050', 'reagan_speeches_051', 'reagan_speeches_052', 'reagan_speeches_053', 'reagan_speeches_054', 'reagan_speeches_055', 'reagan_speeches_056', 'reagan_speeches_057', 'reagan_speeches_058', 'roosevelt_speeches_000', 'roosevelt_speeches_001', 'roosevelt_speeches_002', 'roosevelt_speeches_003', 'roosevelt_speeches_004', 'roosevelt_speeches_005', 'roosevelt_speeches_006', 'roosevelt_speeches_007', 'roosevelt_speeches_008', 'roosevelt_speeches_009', 'roosevelt_speeches_010', 'roosevelt_speeches_011', 'roosevelt_speeches_012', 'roosevelt_speeches_013', 'roosevelt_speeches_014', 'roosevelt_speeches_015', 'roosevelt_speeches_016', 'roosevelt_speeches_017', 'roosevelt_speeches_018', 'roosevelt_speeches_019', 'roosevelt_speeches_020', 'roosevelt_speeches_021', 'taft_speeches_000', 'taft_speeches_001', 'taft_speeches_002', 'taft_speeches_003', 'taft_speeches_004', 'taft_speeches_005', 'taft_speeches_006', 'taft_speeches_007', 'taft_speeches_008', 'taft_speeches_009', 'taft_speeches_010', 'taylor_speeches_000', 'taylor_speeches_001', 'taylor_speeches_002', 'taylor_speeches_003', 'truman_speeches_000', 'truman_speeches_001', 'truman_speeches_002', 'truman_speeches_003', 'truman_speeches_004', 'truman_speeches_005', 'truman_speeches_006', 'truman_speeches_007', 'truman_speeches_008', 'truman_speeches_009', 'truman_speeches_010', 'truman_speeches_011', 'truman_speeches_012', 'truman_speeches_013', 'truman_speeches_014', 'truman_speeches_015', 'truman_speeches_016', 'truman_speeches_017', 'truman_speeches_018', 'tyler_speeches_000', 'tyler_speeches_001', 'tyler_speeches_002', 'tyler_speeches_003', 'tyler_speeches_004', 'tyler_speeches_005', 'tyler_speeches_006', 'tyler_speeches_007', 'tyler_speeches_008', 'tyler_speeches_009', 'tyler_speeches_010', 'tyler_speeches_011', 'tyler_speeches_012', 'tyler_speeches_013', 'tyler_speeches_014', 'tyler_speeches_015', 'tyler_speeches_016', 'tyler_speeches_017', 'vanburen_speeches_000', 'vanburen_speeches_001', 'vanburen_speeches_002', 'vanburen_speeches_003', 'vanburen_speeches_004', 'vanburen_speeches_005', 'vanburen_speeches_006', 'vanburen_speeches_007', 'vanburen_speeches_008', 'vanburen_speeches_009', 'washington_speeches_000', 'washington_speeches_001', 'washington_speeches_002', 'washington_speeches_003', 'washington_speeches_004', 'washington_speeches_005', 'washington_speeches_006', 'washington_speeches_007', 'washington_speeches_008', 'washington_speeches_009', 'washington_speeches_010', 'washington_speeches_011', 'washington_speeches_012', 'washington_speeches_013', 'washington_speeches_014', 'washington_speeches_015', 'washington_speeches_016', 'washington_speeches_017', 'washington_speeches_018', 'washington_speeches_019', 'washington_speeches_020', 'wilson_speeches_000', 'wilson_speeches_001', 'wilson_speeches_002', 'wilson_speeches_003', 'wilson_speeches_004', 'wilson_speeches_005', 'wilson_speeches_006', 'wilson_speeches_007', 'wilson_speeches_008', 'wilson_speeches_009', 'wilson_speeches_010', 'wilson_speeches_011', 'wilson_speeches_012', 'wilson_speeches_013', 'wilson_speeches_014', 'wilson_speeches_015', 'wilson_speeches_016', 'wilson_speeches_017', 'wilson_speeches_018', 'wilson_speeches_019', 'wilson_speeches_020', 'wilson_speeches_021', 'wilson_speeches_022', 'wilson_speeches_023', 'wilson_speeches_024', 'wilson_speeches_025', 'wilson_speeches_026', 'wilson_speeches_027', 'wilson_speeches_028', 'wilson_speeches_029', 'wilson_speeches_030', 'wilson_speeches_031']\n",
      "['adams_speeches_000.txt', 'adams_speeches_001.txt', 'adams_speeches_002.txt', 'adams_speeches_003.txt', 'adams_speeches_004.txt', 'adams_speeches_005.txt', 'adams_speeches_006.txt', 'adams_speeches_007.txt', 'adams_speeches_008.txt', 'arthur_speeches_000.txt', 'arthur_speeches_001.txt', 'arthur_speeches_002.txt', 'arthur_speeches_003.txt', 'arthur_speeches_004.txt', 'arthur_speeches_005.txt', 'arthur_speeches_006.txt', 'arthur_speeches_007.txt', 'arthur_speeches_008.txt', 'arthur_speeches_009.txt', 'arthur_speeches_010.txt', 'bharrison_speeches_000.txt', 'bharrison_speeches_001.txt', 'bharrison_speeches_002.txt', 'bharrison_speeches_003.txt', 'bharrison_speeches_004.txt', 'bharrison_speeches_005.txt', 'bharrison_speeches_006.txt', 'bharrison_speeches_007.txt', 'bharrison_speeches_008.txt', 'bharrison_speeches_009.txt', 'bharrison_speeches_010.txt', 'bharrison_speeches_011.txt', 'bharrison_speeches_012.txt', 'bharrison_speeches_013.txt', 'bharrison_speeches_014.txt', 'bharrison_speeches_015.txt', 'buchanan_speeches_000.txt', 'buchanan_speeches_001.txt', 'buchanan_speeches_002.txt', 'buchanan_speeches_003.txt', 'buchanan_speeches_004.txt', 'buchanan_speeches_005.txt', 'buchanan_speeches_006.txt', 'buchanan_speeches_007.txt', 'buchanan_speeches_008.txt', 'buchanan_speeches_009.txt', 'buchanan_speeches_010.txt', 'buchanan_speeches_011.txt', 'buchanan_speeches_012.txt', 'buchanan_speeches_013.txt', 'bush_speeches_000.txt', 'bush_speeches_001.txt', 'bush_speeches_002.txt', 'bush_speeches_003.txt', 'bush_speeches_004.txt', 'bush_speeches_005.txt', 'bush_speeches_006.txt', 'bush_speeches_007.txt', 'bush_speeches_008.txt', 'bush_speeches_009.txt', 'bush_speeches_010.txt', 'bush_speeches_011.txt', 'bush_speeches_012.txt', 'bush_speeches_013.txt', 'bush_speeches_014.txt', 'bush_speeches_015.txt', 'bush_speeches_016.txt', 'bush_speeches_017.txt', 'bush_speeches_018.txt', 'bush_speeches_019.txt', 'bush_speeches_020.txt', 'bush_speeches_021.txt', 'bush_speeches_022.txt', 'carter_speeches_000.txt', 'carter_speeches_001.txt', 'carter_speeches_002.txt', 'carter_speeches_003.txt', 'carter_speeches_004.txt', 'carter_speeches_005.txt', 'carter_speeches_006.txt', 'carter_speeches_007.txt', 'carter_speeches_008.txt', 'carter_speeches_009.txt', 'carter_speeches_010.txt', 'carter_speeches_011.txt', 'carter_speeches_012.txt', 'carter_speeches_013.txt', 'carter_speeches_014.txt', 'carter_speeches_015.txt', 'carter_speeches_016.txt', 'carter_speeches_017.txt', 'carter_speeches_018.txt', 'carter_speeches_019.txt', 'carter_speeches_020.txt', 'carter_speeches_021.txt', 'cleveland_speeches_000.txt', 'cleveland_speeches_001.txt', 'cleveland_speeches_002.txt', 'cleveland_speeches_003.txt', 'cleveland_speeches_004.txt', 'cleveland_speeches_005.txt', 'cleveland_speeches_006.txt', 'cleveland_speeches_007.txt', 'cleveland_speeches_008.txt', 'cleveland_speeches_009.txt', 'cleveland_speeches_010.txt', 'cleveland_speeches_011.txt', 'cleveland_speeches_012.txt', 'cleveland_speeches_013.txt', 'cleveland_speeches_014.txt', 'cleveland_speeches_015.txt', 'cleveland_speeches_016.txt', 'cleveland_speeches_017.txt', 'cleveland_speeches_018.txt', 'cleveland_speeches_019.txt', 'cleveland_speeches_020.txt', 'cleveland_speeches_021.txt', 'cleveland_speeches_022.txt', 'cleveland_speeches_023.txt', 'cleveland_speeches_024.txt', 'cleveland_speeches_025.txt', 'cleveland_speeches_026.txt', 'cleveland_speeches_027.txt', 'cleveland_speeches_028.txt', 'cleveland_speeches_029.txt', 'cleveland_speeches_030.txt', 'clinton_speeches_000.txt', 'clinton_speeches_001.txt', 'clinton_speeches_002.txt', 'clinton_speeches_003.txt', 'clinton_speeches_004.txt', 'clinton_speeches_005.txt', 'clinton_speeches_006.txt', 'clinton_speeches_007.txt', 'clinton_speeches_008.txt', 'clinton_speeches_009.txt', 'clinton_speeches_010.txt', 'clinton_speeches_011.txt', 'clinton_speeches_012.txt', 'clinton_speeches_013.txt', 'clinton_speeches_014.txt', 'clinton_speeches_015.txt', 'clinton_speeches_016.txt', 'clinton_speeches_017.txt', 'clinton_speeches_018.txt', 'clinton_speeches_019.txt', 'clinton_speeches_020.txt', 'clinton_speeches_021.txt', 'clinton_speeches_022.txt', 'clinton_speeches_023.txt', 'clinton_speeches_024.txt', 'clinton_speeches_025.txt', 'clinton_speeches_026.txt', 'clinton_speeches_027.txt', 'clinton_speeches_028.txt', 'clinton_speeches_029.txt', 'clinton_speeches_030.txt', 'clinton_speeches_031.txt', 'clinton_speeches_032.txt', 'clinton_speeches_033.txt', 'clinton_speeches_034.txt', 'clinton_speeches_035.txt', 'clinton_speeches_036.txt', 'clinton_speeches_037.txt', 'clinton_speeches_038.txt', 'coolidge_speeches_000.txt', 'coolidge_speeches_001.txt', 'coolidge_speeches_002.txt', 'coolidge_speeches_003.txt', 'coolidge_speeches_004.txt', 'coolidge_speeches_005.txt', 'coolidge_speeches_006.txt', 'coolidge_speeches_007.txt', 'coolidge_speeches_008.txt', 'coolidge_speeches_009.txt', 'coolidge_speeches_010.txt', 'coolidge_speeches_011.txt', 'eisenhower_speeches_000.txt', 'eisenhower_speeches_001.txt', 'eisenhower_speeches_002.txt', 'eisenhower_speeches_003.txt', 'eisenhower_speeches_004.txt', 'eisenhower_speeches_005.txt', 'fdroosevelt_speeches_000.txt', 'fdroosevelt_speeches_001.txt', 'fdroosevelt_speeches_002.txt', 'fdroosevelt_speeches_003.txt', 'fdroosevelt_speeches_004.txt', 'fdroosevelt_speeches_005.txt', 'fdroosevelt_speeches_006.txt', 'fdroosevelt_speeches_007.txt', 'fdroosevelt_speeches_008.txt', 'fdroosevelt_speeches_009.txt', 'fdroosevelt_speeches_010.txt', 'fdroosevelt_speeches_011.txt', 'fdroosevelt_speeches_012.txt', 'fdroosevelt_speeches_013.txt', 'fdroosevelt_speeches_014.txt', 'fdroosevelt_speeches_015.txt', 'fdroosevelt_speeches_016.txt', 'fdroosevelt_speeches_017.txt', 'fdroosevelt_speeches_018.txt', 'fdroosevelt_speeches_019.txt', 'fdroosevelt_speeches_020.txt', 'fdroosevelt_speeches_021.txt', 'fdroosevelt_speeches_022.txt', 'fdroosevelt_speeches_023.txt', 'fdroosevelt_speeches_024.txt', 'fdroosevelt_speeches_025.txt', 'fdroosevelt_speeches_026.txt', 'fdroosevelt_speeches_027.txt', 'fdroosevelt_speeches_028.txt', 'fdroosevelt_speeches_029.txt', 'fdroosevelt_speeches_030.txt', 'fdroosevelt_speeches_031.txt', 'fdroosevelt_speeches_032.txt', 'fdroosevelt_speeches_033.txt', 'fdroosevelt_speeches_034.txt', 'fdroosevelt_speeches_035.txt', 'fdroosevelt_speeches_036.txt', 'fdroosevelt_speeches_037.txt', 'fdroosevelt_speeches_038.txt', 'fdroosevelt_speeches_039.txt', 'fdroosevelt_speeches_040.txt', 'fdroosevelt_speeches_041.txt', 'fdroosevelt_speeches_042.txt', 'fdroosevelt_speeches_043.txt', 'fdroosevelt_speeches_044.txt', 'fdroosevelt_speeches_045.txt', 'fdroosevelt_speeches_046.txt', 'fdroosevelt_speeches_047.txt', 'fdroosevelt_speeches_048.txt', 'fillmore_speeches_000.txt', 'fillmore_speeches_001.txt', 'fillmore_speeches_002.txt', 'fillmore_speeches_003.txt', 'fillmore_speeches_004.txt', 'fillmore_speeches_005.txt', 'fillmore_speeches_006.txt', 'ford_speeches_000.txt', 'ford_speeches_001.txt', 'ford_speeches_002.txt', 'ford_speeches_003.txt', 'ford_speeches_004.txt', 'ford_speeches_005.txt', 'ford_speeches_006.txt', 'ford_speeches_007.txt', 'ford_speeches_008.txt', 'ford_speeches_009.txt', 'ford_speeches_010.txt', 'ford_speeches_011.txt', 'ford_speeches_012.txt', 'ford_speeches_013.txt', 'garfield_speeches_000.txt', 'grant_speeches_000.txt', 'grant_speeches_001.txt', 'grant_speeches_002.txt', 'grant_speeches_003.txt', 'grant_speeches_004.txt', 'grant_speeches_005.txt', 'grant_speeches_006.txt', 'grant_speeches_007.txt', 'grant_speeches_008.txt', 'grant_speeches_009.txt', 'grant_speeches_010.txt', 'grant_speeches_011.txt', 'grant_speeches_012.txt', 'grant_speeches_013.txt', 'grant_speeches_014.txt', 'grant_speeches_015.txt', 'grant_speeches_016.txt', 'grant_speeches_017.txt', 'grant_speeches_018.txt', 'grant_speeches_019.txt', 'grant_speeches_020.txt', 'grant_speeches_021.txt', 'grant_speeches_022.txt', 'grant_speeches_023.txt', 'grant_speeches_024.txt', 'grant_speeches_025.txt', 'grant_speeches_026.txt', 'grant_speeches_027.txt', 'grant_speeches_028.txt', 'grant_speeches_029.txt', 'grant_speeches_030.txt', 'grant_speeches_031.txt', 'gwbush_speeches_000.txt', 'gwbush_speeches_001.txt', 'gwbush_speeches_002.txt', 'gwbush_speeches_003.txt', 'gwbush_speeches_004.txt', 'gwbush_speeches_005.txt', 'gwbush_speeches_006.txt', 'gwbush_speeches_007.txt', 'gwbush_speeches_008.txt', 'gwbush_speeches_009.txt', 'gwbush_speeches_010.txt', 'gwbush_speeches_011.txt', 'gwbush_speeches_012.txt', 'gwbush_speeches_013.txt', 'gwbush_speeches_014.txt', 'gwbush_speeches_015.txt', 'gwbush_speeches_016.txt', 'gwbush_speeches_017.txt', 'gwbush_speeches_018.txt', 'gwbush_speeches_019.txt', 'gwbush_speeches_020.txt', 'gwbush_speeches_021.txt', 'gwbush_speeches_022.txt', 'gwbush_speeches_023.txt', 'gwbush_speeches_024.txt', 'gwbush_speeches_025.txt', 'gwbush_speeches_026.txt', 'gwbush_speeches_027.txt', 'gwbush_speeches_028.txt', 'gwbush_speeches_029.txt', 'gwbush_speeches_030.txt', 'gwbush_speeches_031.txt', 'gwbush_speeches_032.txt', 'gwbush_speeches_033.txt', 'gwbush_speeches_034.txt', 'gwbush_speeches_035.txt', 'gwbush_speeches_036.txt', 'gwbush_speeches_037.txt', 'gwbush_speeches_038.txt', 'harding_speeches_000.txt', 'harding_speeches_001.txt', 'harding_speeches_002.txt', 'harding_speeches_003.txt', 'harding_speeches_004.txt', 'harding_speeches_005.txt', 'harding_speeches_006.txt', 'harding_speeches_007.txt', 'harding_speeches_008.txt', 'harding_speeches_009.txt', 'harding_speeches_010.txt', 'harding_speeches_011.txt', 'harding_speeches_012.txt', 'harding_speeches_013.txt', 'harding_speeches_014.txt', 'harding_speeches_015.txt', 'harding_speeches_016.txt', 'harding_speeches_017.txt', 'harrison_speeches_000.txt', 'hayes_speeches_000.txt', 'hayes_speeches_001.txt', 'hayes_speeches_002.txt', 'hayes_speeches_003.txt', 'hayes_speeches_004.txt', 'hayes_speeches_005.txt', 'hayes_speeches_006.txt', 'hayes_speeches_007.txt', 'hayes_speeches_008.txt', 'hayes_speeches_009.txt', 'hayes_speeches_010.txt', 'hayes_speeches_011.txt', 'hayes_speeches_012.txt', 'hayes_speeches_013.txt', 'hayes_speeches_014.txt', 'hayes_speeches_015.txt', 'hoover_speeches_000.txt', 'hoover_speeches_001.txt', 'hoover_speeches_002.txt', 'hoover_speeches_003.txt', 'hoover_speeches_004.txt', 'hoover_speeches_005.txt', 'hoover_speeches_006.txt', 'hoover_speeches_007.txt', 'hoover_speeches_008.txt', 'hoover_speeches_009.txt', 'hoover_speeches_010.txt', 'hoover_speeches_011.txt', 'hoover_speeches_012.txt', 'hoover_speeches_013.txt', 'hoover_speeches_014.txt', 'hoover_speeches_015.txt', 'hoover_speeches_016.txt', 'hoover_speeches_017.txt', 'hoover_speeches_018.txt', 'hoover_speeches_019.txt', 'hoover_speeches_020.txt', 'hoover_speeches_021.txt', 'hoover_speeches_022.txt', 'hoover_speeches_023.txt', 'hoover_speeches_024.txt', 'hoover_speeches_025.txt', 'hoover_speeches_026.txt', 'hoover_speeches_027.txt', 'hoover_speeches_028.txt', 'jackson_speeches_000.txt', 'jackson_speeches_001.txt', 'jackson_speeches_002.txt', 'jackson_speeches_003.txt', 'jackson_speeches_004.txt', 'jackson_speeches_005.txt', 'jackson_speeches_006.txt', 'jackson_speeches_007.txt', 'jackson_speeches_008.txt', 'jackson_speeches_009.txt', 'jackson_speeches_010.txt', 'jackson_speeches_011.txt', 'jackson_speeches_012.txt', 'jackson_speeches_013.txt', 'jackson_speeches_014.txt', 'jackson_speeches_015.txt', 'jackson_speeches_016.txt', 'jackson_speeches_017.txt', 'jackson_speeches_018.txt', 'jackson_speeches_019.txt', 'jackson_speeches_020.txt', 'jackson_speeches_021.txt', 'jackson_speeches_022.txt', 'jackson_speeches_023.txt', 'jackson_speeches_024.txt', 'jackson_speeches_025.txt', 'jefferson_speeches_000.txt', 'jefferson_speeches_001.txt', 'jefferson_speeches_002.txt', 'jefferson_speeches_003.txt', 'jefferson_speeches_004.txt', 'jefferson_speeches_005.txt', 'jefferson_speeches_006.txt', 'jefferson_speeches_007.txt', 'jefferson_speeches_008.txt', 'jefferson_speeches_009.txt', 'jefferson_speeches_010.txt', 'jefferson_speeches_011.txt', 'jefferson_speeches_012.txt', 'jefferson_speeches_013.txt', 'jefferson_speeches_014.txt', 'jefferson_speeches_015.txt', 'jefferson_speeches_016.txt', 'jefferson_speeches_017.txt', 'jefferson_speeches_018.txt', 'jefferson_speeches_019.txt', 'jefferson_speeches_020.txt', 'jefferson_speeches_021.txt', 'jefferson_speeches_022.txt', 'jefferson_speeches_023.txt', 'johnson_speeches_000.txt', 'johnson_speeches_001.txt', 'johnson_speeches_002.txt', 'johnson_speeches_003.txt', 'johnson_speeches_004.txt', 'johnson_speeches_005.txt', 'johnson_speeches_006.txt', 'johnson_speeches_007.txt', 'johnson_speeches_008.txt', 'johnson_speeches_009.txt', 'johnson_speeches_010.txt', 'johnson_speeches_011.txt', 'johnson_speeches_012.txt', 'johnson_speeches_013.txt', 'johnson_speeches_014.txt', 'johnson_speeches_015.txt', 'johnson_speeches_016.txt', 'johnson_speeches_017.txt', 'johnson_speeches_018.txt', 'johnson_speeches_019.txt', 'johnson_speeches_020.txt', 'johnson_speeches_021.txt', 'johnson_speeches_022.txt', 'johnson_speeches_023.txt', 'johnson_speeches_024.txt', 'johnson_speeches_025.txt', 'johnson_speeches_026.txt', 'johnson_speeches_027.txt', 'johnson_speeches_028.txt', 'johnson_speeches_029.txt', 'johnson_speeches_030.txt', 'jqadams_speeches_000.txt', 'jqadams_speeches_001.txt', 'jqadams_speeches_002.txt', 'jqadams_speeches_003.txt', 'jqadams_speeches_004.txt', 'jqadams_speeches_005.txt', 'jqadams_speeches_006.txt', 'jqadams_speeches_007.txt', 'kennedy_speeches_000.txt', 'kennedy_speeches_001.txt', 'kennedy_speeches_002.txt', 'kennedy_speeches_003.txt', 'kennedy_speeches_004.txt', 'kennedy_speeches_005.txt', 'kennedy_speeches_006.txt', 'kennedy_speeches_007.txt', 'kennedy_speeches_008.txt', 'kennedy_speeches_009.txt', 'kennedy_speeches_010.txt', 'kennedy_speeches_011.txt', 'kennedy_speeches_012.txt', 'kennedy_speeches_013.txt', 'kennedy_speeches_014.txt', 'kennedy_speeches_015.txt', 'kennedy_speeches_016.txt', 'kennedy_speeches_017.txt', 'kennedy_speeches_018.txt', 'kennedy_speeches_019.txt', 'kennedy_speeches_020.txt', 'kennedy_speeches_021.txt', 'kennedy_speeches_022.txt', 'kennedy_speeches_023.txt', 'kennedy_speeches_024.txt', 'kennedy_speeches_025.txt', 'kennedy_speeches_026.txt', 'kennedy_speeches_027.txt', 'kennedy_speeches_028.txt', 'kennedy_speeches_029.txt', 'kennedy_speeches_030.txt', 'kennedy_speeches_031.txt', 'kennedy_speeches_032.txt', 'kennedy_speeches_033.txt', 'kennedy_speeches_034.txt', 'kennedy_speeches_035.txt', 'kennedy_speeches_036.txt', 'kennedy_speeches_037.txt', 'kennedy_speeches_038.txt', 'kennedy_speeches_039.txt', 'kennedy_speeches_040.txt', 'kennedy_speeches_041.txt', 'kennedy_speeches_042.txt', 'kennedy_speeches_043.txt', 'kennedy_speeches_044.txt', 'lbjohnson_speeches_000.txt', 'lbjohnson_speeches_001.txt', 'lbjohnson_speeches_002.txt', 'lbjohnson_speeches_003.txt', 'lbjohnson_speeches_004.txt', 'lbjohnson_speeches_005.txt', 'lbjohnson_speeches_006.txt', 'lbjohnson_speeches_007.txt', 'lbjohnson_speeches_008.txt', 'lbjohnson_speeches_009.txt', 'lbjohnson_speeches_010.txt', 'lbjohnson_speeches_011.txt', 'lbjohnson_speeches_012.txt', 'lbjohnson_speeches_013.txt', 'lbjohnson_speeches_014.txt', 'lbjohnson_speeches_015.txt', 'lbjohnson_speeches_016.txt', 'lbjohnson_speeches_017.txt', 'lbjohnson_speeches_018.txt', 'lbjohnson_speeches_019.txt', 'lbjohnson_speeches_020.txt', 'lbjohnson_speeches_021.txt', 'lbjohnson_speeches_022.txt', 'lbjohnson_speeches_023.txt', 'lbjohnson_speeches_024.txt', 'lbjohnson_speeches_025.txt', 'lbjohnson_speeches_026.txt', 'lbjohnson_speeches_027.txt', 'lbjohnson_speeches_028.txt', 'lbjohnson_speeches_029.txt', 'lbjohnson_speeches_030.txt', 'lbjohnson_speeches_031.txt', 'lbjohnson_speeches_032.txt', 'lbjohnson_speeches_033.txt', 'lbjohnson_speeches_034.txt', 'lbjohnson_speeches_035.txt', 'lbjohnson_speeches_036.txt', 'lbjohnson_speeches_037.txt', 'lbjohnson_speeches_038.txt', 'lbjohnson_speeches_039.txt', 'lbjohnson_speeches_040.txt', 'lbjohnson_speeches_041.txt', 'lbjohnson_speeches_042.txt', 'lbjohnson_speeches_043.txt', 'lbjohnson_speeches_044.txt', 'lbjohnson_speeches_045.txt', 'lbjohnson_speeches_046.txt', 'lbjohnson_speeches_047.txt', 'lbjohnson_speeches_048.txt', 'lbjohnson_speeches_049.txt', 'lbjohnson_speeches_050.txt', 'lbjohnson_speeches_051.txt', 'lbjohnson_speeches_052.txt', 'lbjohnson_speeches_053.txt', 'lbjohnson_speeches_054.txt', 'lbjohnson_speeches_055.txt', 'lbjohnson_speeches_056.txt', 'lbjohnson_speeches_057.txt', 'lbjohnson_speeches_058.txt', 'lbjohnson_speeches_059.txt', 'lbjohnson_speeches_060.txt', 'lbjohnson_speeches_061.txt', 'lbjohnson_speeches_062.txt', 'lbjohnson_speeches_063.txt', 'lbjohnson_speeches_064.txt', 'lbjohnson_speeches_065.txt', 'lbjohnson_speeches_066.txt', 'lbjohnson_speeches_067.txt', 'lbjohnson_speeches_068.txt', 'lbjohnson_speeches_069.txt', 'lbjohnson_speeches_070.txt', 'lincoln_speeches_000.txt', 'lincoln_speeches_001.txt', 'lincoln_speeches_002.txt', 'lincoln_speeches_003.txt', 'lincoln_speeches_004.txt', 'lincoln_speeches_005.txt', 'lincoln_speeches_006.txt', 'lincoln_speeches_007.txt', 'lincoln_speeches_008.txt', 'lincoln_speeches_009.txt', 'lincoln_speeches_010.txt', 'lincoln_speeches_011.txt', 'lincoln_speeches_012.txt', 'lincoln_speeches_013.txt', 'lincoln_speeches_014.txt', 'madison_speeches_000.txt', 'madison_speeches_001.txt', 'madison_speeches_002.txt', 'madison_speeches_003.txt', 'madison_speeches_004.txt', 'madison_speeches_005.txt', 'madison_speeches_006.txt', 'madison_speeches_007.txt', 'madison_speeches_008.txt', 'madison_speeches_009.txt', 'madison_speeches_010.txt', 'madison_speeches_011.txt', 'madison_speeches_012.txt', 'madison_speeches_013.txt', 'madison_speeches_014.txt', 'madison_speeches_015.txt', 'madison_speeches_016.txt', 'madison_speeches_017.txt', 'madison_speeches_018.txt', 'madison_speeches_019.txt', 'madison_speeches_020.txt', 'madison_speeches_021.txt', 'mckinley_speeches_000.txt', 'mckinley_speeches_001.txt', 'mckinley_speeches_002.txt', 'mckinley_speeches_003.txt', 'mckinley_speeches_004.txt', 'mckinley_speeches_005.txt', 'mckinley_speeches_006.txt', 'mckinley_speeches_007.txt', 'mckinley_speeches_008.txt', 'mckinley_speeches_009.txt', 'mckinley_speeches_010.txt', 'mckinley_speeches_011.txt', 'mckinley_speeches_012.txt', 'mckinley_speeches_013.txt', 'monroe_speeches_000.txt', 'monroe_speeches_001.txt', 'monroe_speeches_002.txt', 'monroe_speeches_003.txt', 'monroe_speeches_004.txt', 'monroe_speeches_005.txt', 'monroe_speeches_006.txt', 'monroe_speeches_007.txt', 'monroe_speeches_008.txt', 'monroe_speeches_009.txt', 'nixon_speeches_000.txt', 'nixon_speeches_001.txt', 'nixon_speeches_002.txt', 'nixon_speeches_003.txt', 'nixon_speeches_004.txt', 'nixon_speeches_005.txt', 'nixon_speeches_006.txt', 'nixon_speeches_007.txt', 'nixon_speeches_008.txt', 'nixon_speeches_009.txt', 'nixon_speeches_010.txt', 'nixon_speeches_011.txt', 'nixon_speeches_012.txt', 'nixon_speeches_013.txt', 'nixon_speeches_014.txt', 'nixon_speeches_015.txt', 'nixon_speeches_016.txt', 'nixon_speeches_017.txt', 'nixon_speeches_018.txt', 'nixon_speeches_019.txt', 'nixon_speeches_020.txt', 'nixon_speeches_021.txt', 'nixon_speeches_022.txt', 'obama_speeches_000.txt', 'obama_speeches_001.txt', 'obama_speeches_002.txt', 'obama_speeches_003.txt', 'obama_speeches_004.txt', 'obama_speeches_005.txt', 'obama_speeches_006.txt', 'obama_speeches_007.txt', 'obama_speeches_008.txt', 'obama_speeches_009.txt', 'obama_speeches_010.txt', 'obama_speeches_011.txt', 'obama_speeches_012.txt', 'obama_speeches_013.txt', 'obama_speeches_014.txt', 'obama_speeches_015.txt', 'obama_speeches_016.txt', 'obama_speeches_017.txt', 'obama_speeches_018.txt', 'obama_speeches_019.txt', 'obama_speeches_020.txt', 'obama_speeches_021.txt', 'obama_speeches_022.txt', 'obama_speeches_023.txt', 'obama_speeches_026.txt', 'obama_speeches_027.txt', 'obama_speeches_028.txt', 'obama_speeches_029.txt', 'obama_speeches_030.txt', 'obama_speeches_031.txt', 'obama_speeches_032.txt', 'obama_speeches_033.txt', 'obama_speeches_034.txt', 'obama_speeches_035.txt', 'obama_speeches_036.txt', 'obama_speeches_037.txt', 'obama_speeches_038.txt', 'obama_speeches_039.txt', 'obama_speeches_040.txt', 'obama_speeches_041.txt', 'obama_speeches_042.txt', 'obama_speeches_043.txt', 'obama_speeches_044.txt', 'obama_speeches_045.txt', 'obama_speeches_046.txt', 'obama_speeches_047.txt', 'obama_speeches_048.txt', 'obama_speeches_049.txt', 'pierce_speeches_000.txt', 'pierce_speeches_001.txt', 'pierce_speeches_002.txt', 'pierce_speeches_003.txt', 'pierce_speeches_004.txt', 'pierce_speeches_005.txt', 'pierce_speeches_006.txt', 'pierce_speeches_007.txt', 'pierce_speeches_008.txt', 'pierce_speeches_009.txt', 'pierce_speeches_010.txt', 'pierce_speeches_011.txt', 'pierce_speeches_012.txt', 'pierce_speeches_013.txt', 'pierce_speeches_014.txt', 'polk_speeches_000.txt', 'polk_speeches_001.txt', 'polk_speeches_002.txt', 'polk_speeches_003.txt', 'polk_speeches_004.txt', 'polk_speeches_005.txt', 'polk_speeches_006.txt', 'polk_speeches_007.txt', 'polk_speeches_008.txt', 'polk_speeches_009.txt', 'polk_speeches_010.txt', 'polk_speeches_011.txt', 'polk_speeches_012.txt', 'polk_speeches_013.txt', 'polk_speeches_014.txt', 'polk_speeches_015.txt', 'polk_speeches_016.txt', 'polk_speeches_017.txt', 'polk_speeches_018.txt', 'polk_speeches_019.txt', 'polk_speeches_020.txt', 'polk_speeches_021.txt', 'polk_speeches_022.txt', 'polk_speeches_023.txt', 'polk_speeches_024.txt', 'reagan_speeches_000.txt', 'reagan_speeches_001.txt', 'reagan_speeches_002.txt', 'reagan_speeches_003.txt', 'reagan_speeches_004.txt', 'reagan_speeches_005.txt', 'reagan_speeches_006.txt', 'reagan_speeches_007.txt', 'reagan_speeches_008.txt', 'reagan_speeches_009.txt', 'reagan_speeches_010.txt', 'reagan_speeches_011.txt', 'reagan_speeches_012.txt', 'reagan_speeches_013.txt', 'reagan_speeches_014.txt', 'reagan_speeches_015.txt', 'reagan_speeches_016.txt', 'reagan_speeches_017.txt', 'reagan_speeches_018.txt', 'reagan_speeches_019.txt', 'reagan_speeches_020.txt', 'reagan_speeches_021.txt', 'reagan_speeches_022.txt', 'reagan_speeches_023.txt', 'reagan_speeches_024.txt', 'reagan_speeches_025.txt', 'reagan_speeches_026.txt', 'reagan_speeches_027.txt', 'reagan_speeches_028.txt', 'reagan_speeches_029.txt', 'reagan_speeches_030.txt', 'reagan_speeches_031.txt', 'reagan_speeches_032.txt', 'reagan_speeches_033.txt', 'reagan_speeches_034.txt', 'reagan_speeches_035.txt', 'reagan_speeches_036.txt', 'reagan_speeches_037.txt', 'reagan_speeches_038.txt', 'reagan_speeches_039.txt', 'reagan_speeches_040.txt', 'reagan_speeches_041.txt', 'reagan_speeches_042.txt', 'reagan_speeches_043.txt', 'reagan_speeches_044.txt', 'reagan_speeches_045.txt', 'reagan_speeches_046.txt', 'reagan_speeches_047.txt', 'reagan_speeches_048.txt', 'reagan_speeches_049.txt', 'reagan_speeches_050.txt', 'reagan_speeches_051.txt', 'reagan_speeches_052.txt', 'reagan_speeches_053.txt', 'reagan_speeches_054.txt', 'reagan_speeches_055.txt', 'reagan_speeches_056.txt', 'reagan_speeches_057.txt', 'reagan_speeches_058.txt', 'roosevelt_speeches_000.txt', 'roosevelt_speeches_001.txt', 'roosevelt_speeches_002.txt', 'roosevelt_speeches_003.txt', 'roosevelt_speeches_004.txt', 'roosevelt_speeches_005.txt', 'roosevelt_speeches_006.txt', 'roosevelt_speeches_007.txt', 'roosevelt_speeches_008.txt', 'roosevelt_speeches_009.txt', 'roosevelt_speeches_010.txt', 'roosevelt_speeches_011.txt', 'roosevelt_speeches_012.txt', 'roosevelt_speeches_013.txt', 'roosevelt_speeches_014.txt', 'roosevelt_speeches_015.txt', 'roosevelt_speeches_016.txt', 'roosevelt_speeches_017.txt', 'roosevelt_speeches_018.txt', 'roosevelt_speeches_019.txt', 'roosevelt_speeches_020.txt', 'roosevelt_speeches_021.txt', 'taft_speeches_000.txt', 'taft_speeches_001.txt', 'taft_speeches_002.txt', 'taft_speeches_003.txt', 'taft_speeches_004.txt', 'taft_speeches_005.txt', 'taft_speeches_006.txt', 'taft_speeches_007.txt', 'taft_speeches_008.txt', 'taft_speeches_009.txt', 'taft_speeches_010.txt', 'taylor_speeches_000.txt', 'taylor_speeches_001.txt', 'taylor_speeches_002.txt', 'taylor_speeches_003.txt', 'truman_speeches_000.txt', 'truman_speeches_001.txt', 'truman_speeches_002.txt', 'truman_speeches_003.txt', 'truman_speeches_004.txt', 'truman_speeches_005.txt', 'truman_speeches_006.txt', 'truman_speeches_007.txt', 'truman_speeches_008.txt', 'truman_speeches_009.txt', 'truman_speeches_010.txt', 'truman_speeches_011.txt', 'truman_speeches_012.txt', 'truman_speeches_013.txt', 'truman_speeches_014.txt', 'truman_speeches_015.txt', 'truman_speeches_016.txt', 'truman_speeches_017.txt', 'truman_speeches_018.txt', 'tyler_speeches_000.txt', 'tyler_speeches_001.txt', 'tyler_speeches_002.txt', 'tyler_speeches_003.txt', 'tyler_speeches_004.txt', 'tyler_speeches_005.txt', 'tyler_speeches_006.txt', 'tyler_speeches_007.txt', 'tyler_speeches_008.txt', 'tyler_speeches_009.txt', 'tyler_speeches_010.txt', 'tyler_speeches_011.txt', 'tyler_speeches_012.txt', 'tyler_speeches_013.txt', 'tyler_speeches_014.txt', 'tyler_speeches_015.txt', 'tyler_speeches_016.txt', 'tyler_speeches_017.txt', 'vanburen_speeches_000.txt', 'vanburen_speeches_001.txt', 'vanburen_speeches_002.txt', 'vanburen_speeches_003.txt', 'vanburen_speeches_004.txt', 'vanburen_speeches_005.txt', 'vanburen_speeches_006.txt', 'vanburen_speeches_007.txt', 'vanburen_speeches_008.txt', 'vanburen_speeches_009.txt', 'washington_speeches_000.txt', 'washington_speeches_001.txt', 'washington_speeches_002.txt', 'washington_speeches_003.txt', 'washington_speeches_004.txt', 'washington_speeches_005.txt', 'washington_speeches_006.txt', 'washington_speeches_007.txt', 'washington_speeches_008.txt', 'washington_speeches_009.txt', 'washington_speeches_010.txt', 'washington_speeches_011.txt', 'washington_speeches_012.txt', 'washington_speeches_013.txt', 'washington_speeches_014.txt', 'washington_speeches_015.txt', 'washington_speeches_016.txt', 'washington_speeches_017.txt', 'washington_speeches_018.txt', 'washington_speeches_019.txt', 'washington_speeches_020.txt', 'wilson_speeches_000.txt', 'wilson_speeches_001.txt', 'wilson_speeches_002.txt', 'wilson_speeches_003.txt', 'wilson_speeches_004.txt', 'wilson_speeches_005.txt', 'wilson_speeches_006.txt', 'wilson_speeches_007.txt', 'wilson_speeches_008.txt', 'wilson_speeches_009.txt', 'wilson_speeches_010.txt', 'wilson_speeches_011.txt', 'wilson_speeches_012.txt', 'wilson_speeches_013.txt', 'wilson_speeches_014.txt', 'wilson_speeches_015.txt', 'wilson_speeches_016.txt', 'wilson_speeches_017.txt', 'wilson_speeches_018.txt', 'wilson_speeches_019.txt', 'wilson_speeches_020.txt', 'wilson_speeches_021.txt', 'wilson_speeches_022.txt', 'wilson_speeches_023.txt', 'wilson_speeches_024.txt', 'wilson_speeches_025.txt', 'wilson_speeches_026.txt', 'wilson_speeches_027.txt', 'wilson_speeches_028.txt', 'wilson_speeches_029.txt', 'wilson_speeches_030.txt', 'wilson_speeches_031.txt']\n"
     ]
    }
   ],
   "source": [
    "reader=CategorizedPlaintextCorpusReader(r'C:\\Users\\hartg\\Desktop\\Professional_Projects\\Professional-Projects\\MSF_Case_Study\\Corpus of Presential Speeches\\combined',r'.*txt',cat_pattern=r'(\\w+)/*')\n",
    "print(reader.categories())\n",
    "print(reader.fileids())"
   ]
  },
  {
   "cell_type": "code",
   "execution_count": 118,
   "metadata": {},
   "outputs": [
    {
     "data": {
      "text/plain": [
       "<CategorizedPlaintextCorpusReader in 'C:\\\\Users\\\\hartg\\\\Desktop\\\\Professional_Projects\\\\Professional-Projects\\\\MSF_Case_Study\\\\Corpus of Presential Speeches\\\\combined'>"
      ]
     },
     "execution_count": 118,
     "metadata": {},
     "output_type": "execute_result"
    }
   ],
   "source": [
    "reader"
   ]
  },
  {
   "cell_type": "code",
   "execution_count": 122,
   "metadata": {},
   "outputs": [
    {
     "ename": "ValueError",
     "evalue": "not enough values to unpack (expected 2, got 1)",
     "output_type": "error",
     "traceback": [
      "\u001b[1;31m---------------------------------------------------------------------------\u001b[0m",
      "\u001b[1;31mValueError\u001b[0m                                Traceback (most recent call last)",
      "\u001b[1;32m<ipython-input-122-33ffb962e1d9>\u001b[0m in \u001b[0;36m<module>\u001b[1;34m\u001b[0m\n\u001b[0;32m      1\u001b[0m \u001b[0mspeeches\u001b[0m\u001b[1;33m=\u001b[0m\u001b[1;33m[\u001b[0m\u001b[1;33m]\u001b[0m\u001b[1;33m\u001b[0m\u001b[1;33m\u001b[0m\u001b[0m\n\u001b[0;32m      2\u001b[0m \u001b[1;32mfor\u001b[0m \u001b[0mfileid\u001b[0m \u001b[1;32min\u001b[0m \u001b[0mreader\u001b[0m\u001b[1;33m.\u001b[0m\u001b[0mfileids\u001b[0m\u001b[1;33m(\u001b[0m\u001b[1;33m)\u001b[0m\u001b[1;33m:\u001b[0m\u001b[1;33m\u001b[0m\u001b[1;33m\u001b[0m\u001b[0m\n\u001b[1;32m----> 3\u001b[1;33m     \u001b[0mtag\u001b[0m\u001b[1;33m,\u001b[0m \u001b[0mfilename\u001b[0m \u001b[1;33m=\u001b[0m \u001b[0mfileid\u001b[0m\u001b[1;33m.\u001b[0m\u001b[0msplit\u001b[0m\u001b[1;33m(\u001b[0m\u001b[1;34m'/'\u001b[0m\u001b[1;33m)\u001b[0m\u001b[1;33m\u001b[0m\u001b[1;33m\u001b[0m\u001b[0m\n\u001b[0m\u001b[0;32m      4\u001b[0m     \u001b[0mspeeches\u001b[0m\u001b[1;33m.\u001b[0m\u001b[0mappend\u001b[0m\u001b[1;33m(\u001b[0m\u001b[1;33m(\u001b[0m\u001b[0mfilename\u001b[0m\u001b[1;33m,\u001b[0m\u001b[0mtag\u001b[0m\u001b[1;33m,\u001b[0m\u001b[0mreader\u001b[0m\u001b[1;33m.\u001b[0m\u001b[0mraw\u001b[0m\u001b[1;33m(\u001b[0m\u001b[0mfileid\u001b[0m\u001b[1;33m)\u001b[0m\u001b[1;33m)\u001b[0m\u001b[1;33m)\u001b[0m\u001b[1;33m\u001b[0m\u001b[1;33m\u001b[0m\u001b[0m\n\u001b[0;32m      5\u001b[0m \u001b[1;33m\u001b[0m\u001b[0m\n",
      "\u001b[1;31mValueError\u001b[0m: not enough values to unpack (expected 2, got 1)"
     ]
    }
   ],
   "source": [
    "speeches=[]\n",
    "for fileid in reader.fileids():\n",
    "    tag, filename = fileid.split('/')\n",
    "    speeches.append((filename,tag,reader.raw(fileid)))\n",
    "    \n"
   ]
  },
  {
   "cell_type": "code",
   "execution_count": 125,
   "metadata": {},
   "outputs": [
    {
     "name": "stdout",
     "output_type": "stream",
     "text": [
      "<bound method CategorizedCorpusReader.fileids of <CategorizedPlaintextCorpusReader in 'C:\\\\Users\\\\hartg\\\\Desktop\\\\Professional_Projects\\\\Professional-Projects\\\\MSF_Case_Study\\\\Corpus of Presential Speeches\\\\combined'>>\n"
     ]
    }
   ],
   "source": [
    "print(reader.fileids)"
   ]
  },
  {
   "cell_type": "code",
   "execution_count": 126,
   "metadata": {},
   "outputs": [],
   "source": [
    "from nltk.corpus import movie_reviews as mr"
   ]
  },
  {
   "cell_type": "code",
   "execution_count": 127,
   "metadata": {},
   "outputs": [
    {
     "data": {
      "text/plain": [
       "<CategorizedPlaintextCorpusReader in '.../corpora/movie_reviews' (not loaded yet)>"
      ]
     },
     "execution_count": 127,
     "metadata": {},
     "output_type": "execute_result"
    }
   ],
   "source": [
    "mr"
   ]
  },
  {
   "cell_type": "code",
   "execution_count": 128,
   "metadata": {
    "scrolled": false
   },
   "outputs": [
    {
     "ename": "LookupError",
     "evalue": "\n**********************************************************************\n  Resource \u001b[93mmovie_reviews\u001b[0m not found.\n  Please use the NLTK Downloader to obtain the resource:\n\n  \u001b[31m>>> import nltk\n  >>> nltk.download('movie_reviews')\n  \u001b[0m\n  For more information see: https://www.nltk.org/data.html\n\n  Attempted to load \u001b[93mcorpora/movie_reviews\u001b[0m\n\n  Searched in:\n    - 'C:\\\\Users\\\\hartg/nltk_data'\n    - 'C:\\\\Users\\\\hartg\\\\anaconda3\\\\nltk_data'\n    - 'C:\\\\Users\\\\hartg\\\\anaconda3\\\\share\\\\nltk_data'\n    - 'C:\\\\Users\\\\hartg\\\\anaconda3\\\\lib\\\\nltk_data'\n    - 'C:\\\\Users\\\\hartg\\\\AppData\\\\Roaming\\\\nltk_data'\n    - 'C:\\\\nltk_data'\n    - 'D:\\\\nltk_data'\n    - 'E:\\\\nltk_data'\n**********************************************************************\n",
     "output_type": "error",
     "traceback": [
      "\u001b[1;31m---------------------------------------------------------------------------\u001b[0m",
      "\u001b[1;31mLookupError\u001b[0m                               Traceback (most recent call last)",
      "\u001b[1;32m~\\anaconda3\\lib\\site-packages\\nltk\\corpus\\util.py\u001b[0m in \u001b[0;36m__load\u001b[1;34m(self)\u001b[0m\n\u001b[0;32m     85\u001b[0m                 \u001b[1;32mtry\u001b[0m\u001b[1;33m:\u001b[0m\u001b[1;33m\u001b[0m\u001b[1;33m\u001b[0m\u001b[0m\n\u001b[1;32m---> 86\u001b[1;33m                     \u001b[0mroot\u001b[0m \u001b[1;33m=\u001b[0m \u001b[0mnltk\u001b[0m\u001b[1;33m.\u001b[0m\u001b[0mdata\u001b[0m\u001b[1;33m.\u001b[0m\u001b[0mfind\u001b[0m\u001b[1;33m(\u001b[0m\u001b[1;34m'{}/{}'\u001b[0m\u001b[1;33m.\u001b[0m\u001b[0mformat\u001b[0m\u001b[1;33m(\u001b[0m\u001b[0mself\u001b[0m\u001b[1;33m.\u001b[0m\u001b[0msubdir\u001b[0m\u001b[1;33m,\u001b[0m \u001b[0mzip_name\u001b[0m\u001b[1;33m)\u001b[0m\u001b[1;33m)\u001b[0m\u001b[1;33m\u001b[0m\u001b[1;33m\u001b[0m\u001b[0m\n\u001b[0m\u001b[0;32m     87\u001b[0m                 \u001b[1;32mexcept\u001b[0m \u001b[0mLookupError\u001b[0m\u001b[1;33m:\u001b[0m\u001b[1;33m\u001b[0m\u001b[1;33m\u001b[0m\u001b[0m\n",
      "\u001b[1;32m~\\anaconda3\\lib\\site-packages\\nltk\\data.py\u001b[0m in \u001b[0;36mfind\u001b[1;34m(resource_name, paths)\u001b[0m\n\u001b[0;32m    700\u001b[0m     \u001b[0mresource_not_found\u001b[0m \u001b[1;33m=\u001b[0m \u001b[1;34m'\\n%s\\n%s\\n%s\\n'\u001b[0m \u001b[1;33m%\u001b[0m \u001b[1;33m(\u001b[0m\u001b[0msep\u001b[0m\u001b[1;33m,\u001b[0m \u001b[0mmsg\u001b[0m\u001b[1;33m,\u001b[0m \u001b[0msep\u001b[0m\u001b[1;33m)\u001b[0m\u001b[1;33m\u001b[0m\u001b[1;33m\u001b[0m\u001b[0m\n\u001b[1;32m--> 701\u001b[1;33m     \u001b[1;32mraise\u001b[0m \u001b[0mLookupError\u001b[0m\u001b[1;33m(\u001b[0m\u001b[0mresource_not_found\u001b[0m\u001b[1;33m)\u001b[0m\u001b[1;33m\u001b[0m\u001b[1;33m\u001b[0m\u001b[0m\n\u001b[0m\u001b[0;32m    702\u001b[0m \u001b[1;33m\u001b[0m\u001b[0m\n",
      "\u001b[1;31mLookupError\u001b[0m: \n**********************************************************************\n  Resource \u001b[93mmovie_reviews\u001b[0m not found.\n  Please use the NLTK Downloader to obtain the resource:\n\n  \u001b[31m>>> import nltk\n  >>> nltk.download('movie_reviews')\n  \u001b[0m\n  For more information see: https://www.nltk.org/data.html\n\n  Attempted to load \u001b[93mcorpora/movie_reviews.zip/movie_reviews/\u001b[0m\n\n  Searched in:\n    - 'C:\\\\Users\\\\hartg/nltk_data'\n    - 'C:\\\\Users\\\\hartg\\\\anaconda3\\\\nltk_data'\n    - 'C:\\\\Users\\\\hartg\\\\anaconda3\\\\share\\\\nltk_data'\n    - 'C:\\\\Users\\\\hartg\\\\anaconda3\\\\lib\\\\nltk_data'\n    - 'C:\\\\Users\\\\hartg\\\\AppData\\\\Roaming\\\\nltk_data'\n    - 'C:\\\\nltk_data'\n    - 'D:\\\\nltk_data'\n    - 'E:\\\\nltk_data'\n**********************************************************************\n",
      "\nDuring handling of the above exception, another exception occurred:\n",
      "\u001b[1;31mLookupError\u001b[0m                               Traceback (most recent call last)",
      "\u001b[1;32m<ipython-input-128-2d3dd25b2848>\u001b[0m in \u001b[0;36m<module>\u001b[1;34m\u001b[0m\n\u001b[0;32m      1\u001b[0m \u001b[0mreviews\u001b[0m \u001b[1;33m=\u001b[0m \u001b[1;33m[\u001b[0m\u001b[1;33m]\u001b[0m\u001b[1;33m\u001b[0m\u001b[1;33m\u001b[0m\u001b[0m\n\u001b[1;32m----> 2\u001b[1;33m \u001b[1;32mfor\u001b[0m \u001b[0mfileid\u001b[0m \u001b[1;32min\u001b[0m \u001b[0mmr\u001b[0m\u001b[1;33m.\u001b[0m\u001b[0mfileids\u001b[0m\u001b[1;33m(\u001b[0m\u001b[1;33m)\u001b[0m\u001b[1;33m:\u001b[0m\u001b[1;33m\u001b[0m\u001b[1;33m\u001b[0m\u001b[0m\n\u001b[0m\u001b[0;32m      3\u001b[0m     \u001b[0mtag\u001b[0m\u001b[1;33m,\u001b[0m \u001b[0mfilename\u001b[0m \u001b[1;33m=\u001b[0m \u001b[0mfileid\u001b[0m\u001b[1;33m.\u001b[0m\u001b[0msplit\u001b[0m\u001b[1;33m(\u001b[0m\u001b[1;34m'/'\u001b[0m\u001b[1;33m)\u001b[0m\u001b[1;33m\u001b[0m\u001b[1;33m\u001b[0m\u001b[0m\n\u001b[0;32m      4\u001b[0m     \u001b[0mreviews\u001b[0m\u001b[1;33m.\u001b[0m\u001b[0mappend\u001b[0m\u001b[1;33m(\u001b[0m\u001b[1;33m(\u001b[0m\u001b[0mfilename\u001b[0m\u001b[1;33m,\u001b[0m \u001b[0mtag\u001b[0m\u001b[1;33m,\u001b[0m \u001b[0mmr\u001b[0m\u001b[1;33m.\u001b[0m\u001b[0mraw\u001b[0m\u001b[1;33m(\u001b[0m\u001b[0mfileid\u001b[0m\u001b[1;33m)\u001b[0m\u001b[1;33m)\u001b[0m\u001b[1;33m)\u001b[0m\u001b[1;33m\u001b[0m\u001b[1;33m\u001b[0m\u001b[0m\n",
      "\u001b[1;32m~\\anaconda3\\lib\\site-packages\\nltk\\corpus\\util.py\u001b[0m in \u001b[0;36m__getattr__\u001b[1;34m(self, attr)\u001b[0m\n\u001b[0;32m    121\u001b[0m             \u001b[1;32mraise\u001b[0m \u001b[0mAttributeError\u001b[0m\u001b[1;33m(\u001b[0m\u001b[1;34m\"LazyCorpusLoader object has no attribute '__bases__'\"\u001b[0m\u001b[1;33m)\u001b[0m\u001b[1;33m\u001b[0m\u001b[1;33m\u001b[0m\u001b[0m\n\u001b[0;32m    122\u001b[0m \u001b[1;33m\u001b[0m\u001b[0m\n\u001b[1;32m--> 123\u001b[1;33m         \u001b[0mself\u001b[0m\u001b[1;33m.\u001b[0m\u001b[0m__load\u001b[0m\u001b[1;33m(\u001b[0m\u001b[1;33m)\u001b[0m\u001b[1;33m\u001b[0m\u001b[1;33m\u001b[0m\u001b[0m\n\u001b[0m\u001b[0;32m    124\u001b[0m         \u001b[1;31m# This looks circular, but its not, since __load() changes our\u001b[0m\u001b[1;33m\u001b[0m\u001b[1;33m\u001b[0m\u001b[1;33m\u001b[0m\u001b[0m\n\u001b[0;32m    125\u001b[0m         \u001b[1;31m# __class__ to something new:\u001b[0m\u001b[1;33m\u001b[0m\u001b[1;33m\u001b[0m\u001b[1;33m\u001b[0m\u001b[0m\n",
      "\u001b[1;32m~\\anaconda3\\lib\\site-packages\\nltk\\corpus\\util.py\u001b[0m in \u001b[0;36m__load\u001b[1;34m(self)\u001b[0m\n\u001b[0;32m     86\u001b[0m                     \u001b[0mroot\u001b[0m \u001b[1;33m=\u001b[0m \u001b[0mnltk\u001b[0m\u001b[1;33m.\u001b[0m\u001b[0mdata\u001b[0m\u001b[1;33m.\u001b[0m\u001b[0mfind\u001b[0m\u001b[1;33m(\u001b[0m\u001b[1;34m'{}/{}'\u001b[0m\u001b[1;33m.\u001b[0m\u001b[0mformat\u001b[0m\u001b[1;33m(\u001b[0m\u001b[0mself\u001b[0m\u001b[1;33m.\u001b[0m\u001b[0msubdir\u001b[0m\u001b[1;33m,\u001b[0m \u001b[0mzip_name\u001b[0m\u001b[1;33m)\u001b[0m\u001b[1;33m)\u001b[0m\u001b[1;33m\u001b[0m\u001b[1;33m\u001b[0m\u001b[0m\n\u001b[0;32m     87\u001b[0m                 \u001b[1;32mexcept\u001b[0m \u001b[0mLookupError\u001b[0m\u001b[1;33m:\u001b[0m\u001b[1;33m\u001b[0m\u001b[1;33m\u001b[0m\u001b[0m\n\u001b[1;32m---> 88\u001b[1;33m                     \u001b[1;32mraise\u001b[0m \u001b[0me\u001b[0m\u001b[1;33m\u001b[0m\u001b[1;33m\u001b[0m\u001b[0m\n\u001b[0m\u001b[0;32m     89\u001b[0m \u001b[1;33m\u001b[0m\u001b[0m\n\u001b[0;32m     90\u001b[0m         \u001b[1;31m# Load the corpus.\u001b[0m\u001b[1;33m\u001b[0m\u001b[1;33m\u001b[0m\u001b[1;33m\u001b[0m\u001b[0m\n",
      "\u001b[1;32m~\\anaconda3\\lib\\site-packages\\nltk\\corpus\\util.py\u001b[0m in \u001b[0;36m__load\u001b[1;34m(self)\u001b[0m\n\u001b[0;32m     81\u001b[0m         \u001b[1;32melse\u001b[0m\u001b[1;33m:\u001b[0m\u001b[1;33m\u001b[0m\u001b[1;33m\u001b[0m\u001b[0m\n\u001b[0;32m     82\u001b[0m             \u001b[1;32mtry\u001b[0m\u001b[1;33m:\u001b[0m\u001b[1;33m\u001b[0m\u001b[1;33m\u001b[0m\u001b[0m\n\u001b[1;32m---> 83\u001b[1;33m                 \u001b[0mroot\u001b[0m \u001b[1;33m=\u001b[0m \u001b[0mnltk\u001b[0m\u001b[1;33m.\u001b[0m\u001b[0mdata\u001b[0m\u001b[1;33m.\u001b[0m\u001b[0mfind\u001b[0m\u001b[1;33m(\u001b[0m\u001b[1;34m'{}/{}'\u001b[0m\u001b[1;33m.\u001b[0m\u001b[0mformat\u001b[0m\u001b[1;33m(\u001b[0m\u001b[0mself\u001b[0m\u001b[1;33m.\u001b[0m\u001b[0msubdir\u001b[0m\u001b[1;33m,\u001b[0m \u001b[0mself\u001b[0m\u001b[1;33m.\u001b[0m\u001b[0m__name\u001b[0m\u001b[1;33m)\u001b[0m\u001b[1;33m)\u001b[0m\u001b[1;33m\u001b[0m\u001b[1;33m\u001b[0m\u001b[0m\n\u001b[0m\u001b[0;32m     84\u001b[0m             \u001b[1;32mexcept\u001b[0m \u001b[0mLookupError\u001b[0m \u001b[1;32mas\u001b[0m \u001b[0me\u001b[0m\u001b[1;33m:\u001b[0m\u001b[1;33m\u001b[0m\u001b[1;33m\u001b[0m\u001b[0m\n\u001b[0;32m     85\u001b[0m                 \u001b[1;32mtry\u001b[0m\u001b[1;33m:\u001b[0m\u001b[1;33m\u001b[0m\u001b[1;33m\u001b[0m\u001b[0m\n",
      "\u001b[1;32m~\\anaconda3\\lib\\site-packages\\nltk\\data.py\u001b[0m in \u001b[0;36mfind\u001b[1;34m(resource_name, paths)\u001b[0m\n\u001b[0;32m    699\u001b[0m     \u001b[0msep\u001b[0m \u001b[1;33m=\u001b[0m \u001b[1;34m'*'\u001b[0m \u001b[1;33m*\u001b[0m \u001b[1;36m70\u001b[0m\u001b[1;33m\u001b[0m\u001b[1;33m\u001b[0m\u001b[0m\n\u001b[0;32m    700\u001b[0m     \u001b[0mresource_not_found\u001b[0m \u001b[1;33m=\u001b[0m \u001b[1;34m'\\n%s\\n%s\\n%s\\n'\u001b[0m \u001b[1;33m%\u001b[0m \u001b[1;33m(\u001b[0m\u001b[0msep\u001b[0m\u001b[1;33m,\u001b[0m \u001b[0mmsg\u001b[0m\u001b[1;33m,\u001b[0m \u001b[0msep\u001b[0m\u001b[1;33m)\u001b[0m\u001b[1;33m\u001b[0m\u001b[1;33m\u001b[0m\u001b[0m\n\u001b[1;32m--> 701\u001b[1;33m     \u001b[1;32mraise\u001b[0m \u001b[0mLookupError\u001b[0m\u001b[1;33m(\u001b[0m\u001b[0mresource_not_found\u001b[0m\u001b[1;33m)\u001b[0m\u001b[1;33m\u001b[0m\u001b[1;33m\u001b[0m\u001b[0m\n\u001b[0m\u001b[0;32m    702\u001b[0m \u001b[1;33m\u001b[0m\u001b[0m\n\u001b[0;32m    703\u001b[0m \u001b[1;33m\u001b[0m\u001b[0m\n",
      "\u001b[1;31mLookupError\u001b[0m: \n**********************************************************************\n  Resource \u001b[93mmovie_reviews\u001b[0m not found.\n  Please use the NLTK Downloader to obtain the resource:\n\n  \u001b[31m>>> import nltk\n  >>> nltk.download('movie_reviews')\n  \u001b[0m\n  For more information see: https://www.nltk.org/data.html\n\n  Attempted to load \u001b[93mcorpora/movie_reviews\u001b[0m\n\n  Searched in:\n    - 'C:\\\\Users\\\\hartg/nltk_data'\n    - 'C:\\\\Users\\\\hartg\\\\anaconda3\\\\nltk_data'\n    - 'C:\\\\Users\\\\hartg\\\\anaconda3\\\\share\\\\nltk_data'\n    - 'C:\\\\Users\\\\hartg\\\\anaconda3\\\\lib\\\\nltk_data'\n    - 'C:\\\\Users\\\\hartg\\\\AppData\\\\Roaming\\\\nltk_data'\n    - 'C:\\\\nltk_data'\n    - 'D:\\\\nltk_data'\n    - 'E:\\\\nltk_data'\n**********************************************************************\n"
     ]
    }
   ],
   "source": [
    "reviews = []\n",
    "for fileid in mr.fileids():\n",
    "    tag, filename = fileid.split('/')\n",
    "    reviews.append((filename, tag, mr.raw(fileid)))"
   ]
  },
  {
   "cell_type": "code",
   "execution_count": null,
   "metadata": {},
   "outputs": [],
   "source": []
  },
  {
   "cell_type": "code",
   "execution_count": null,
   "metadata": {},
   "outputs": [],
   "source": []
  }
 ],
 "metadata": {
  "kernelspec": {
   "display_name": "Python 3",
   "language": "python",
   "name": "python3"
  },
  "language_info": {
   "codemirror_mode": {
    "name": "ipython",
    "version": 3
   },
   "file_extension": ".py",
   "mimetype": "text/x-python",
   "name": "python",
   "nbconvert_exporter": "python",
   "pygments_lexer": "ipython3",
   "version": "3.7.6"
  }
 },
 "nbformat": 4,
 "nbformat_minor": 4
}
